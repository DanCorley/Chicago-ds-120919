{
 "cells": [
  {
   "cell_type": "markdown",
   "metadata": {},
   "source": [
    "Import pandas, numpy, and then load the UCI heart dataset we used in lecture yesterday into a dataframe."
   ]
  },
  {
   "cell_type": "code",
   "execution_count": 4,
   "metadata": {},
   "outputs": [],
   "source": [
    "# Import modules and dataset here\n"
   ]
  },
  {
   "cell_type": "markdown",
   "metadata": {},
   "source": [
    "We will now do a series of exercises which will anticipate ways we will interact with the data in future modules."
   ]
  },
  {
   "cell_type": "markdown",
   "metadata": {},
   "source": [
    "## Exercise 1: Anticipates one way we can attempt correct right skewed data.\n",
    "\n",
    "1. Make a new column which is the log of the cholesterol column.\n",
    "2. Make another new column which raises e to the value of the cholesterol column.\n",
    "3. Check the original column is equal to the second new column.\n",
    "Hint: use numpy.log and numpy.e"
   ]
  },
  {
   "cell_type": "code",
   "execution_count": null,
   "metadata": {},
   "outputs": [],
   "source": [
    "# Your answer here"
   ]
  },
  {
   "cell_type": "markdown",
   "metadata": {},
   "source": [
    "## Exercise 2: This anticipates the train-test split we will encounter in modeling.\n",
    "\n",
    "1: Split target off of the dataset.<br>\n",
    "2: Use numpy to create a random subset of the target variables.<br>\n",
    "3: Match the indices of each set to the indices of the features \n",
    "in order to make two corresponding feature sets.\n",
    "#### Hint: Use numpy.random.choice"
   ]
  },
  {
   "cell_type": "code",
   "execution_count": null,
   "metadata": {},
   "outputs": [],
   "source": [
    "# Your answer here"
   ]
  },
  {
   "cell_type": "markdown",
   "metadata": {},
   "source": [
    "## Exercise 3: This anticipates the evaluation of classification models.\n",
    "\n",
    "1. Use numpy to create a random column of 0's and 1s.\n",
    "2. Count the number of rows whose target column and new column have the same values."
   ]
  },
  {
   "cell_type": "code",
   "execution_count": null,
   "metadata": {},
   "outputs": [],
   "source": [
    "# Your answer here"
   ]
  }
 ],
 "metadata": {
  "kernelspec": {
   "display_name": "Python 3",
   "language": "python",
   "name": "python3"
  },
  "language_info": {
   "codemirror_mode": {
    "name": "ipython",
    "version": 3
   },
   "file_extension": ".py",
   "mimetype": "text/x-python",
   "name": "python",
   "nbconvert_exporter": "python",
   "pygments_lexer": "ipython3",
   "version": "3.7.3"
  }
 },
 "nbformat": 4,
 "nbformat_minor": 4
}
