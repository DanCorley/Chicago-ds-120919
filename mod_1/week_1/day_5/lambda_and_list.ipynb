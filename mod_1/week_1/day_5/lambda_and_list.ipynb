{
 "cells": [
  {
   "cell_type": "markdown",
   "metadata": {},
   "source": [
    "## Part I - lambda function \n",
    "The lambda function is anonymous function in python. The syntax is __lambda arguments : expression.__ <br>\n",
    "We use lambda functions when we require a nameless function for a short period of time.\n",
    "\n",
    "In Python, we generally use it as an argument to a higher-order function (a function that takes in other functions as arguments). Lambda functions are used along with built-in functions like filter(), map() and reduce() etc. <br>\n",
    "\n",
    "Lambda function can also come really handy when we are working with feature engineering. "
   ]
  },
  {
   "cell_type": "code",
   "execution_count": 51,
   "metadata": {},
   "outputs": [
    {
     "name": "stdout",
     "output_type": "stream",
     "text": [
      "20\n"
     ]
    }
   ],
   "source": [
    "# example 1:\n",
    "func_1 = lambda x: x+10\n",
    "print(func_1(10))"
   ]
  },
  {
   "cell_type": "code",
   "execution_count": 52,
   "metadata": {},
   "outputs": [
    {
     "data": {
      "text/plain": [
       "20"
      ]
     },
     "execution_count": 52,
     "metadata": {},
     "output_type": "execute_result"
    }
   ],
   "source": [
    "def plus_ten(x):\n",
    "    return x+10\n",
    "plus_ten(10)"
   ]
  },
  {
   "cell_type": "code",
   "execution_count": 58,
   "metadata": {},
   "outputs": [
    {
     "name": "stdout",
     "output_type": "stream",
     "text": [
      "8\n"
     ]
    }
   ],
   "source": [
    "# example 2: with more arguments\n",
    "func_2 = lambda x,y : x**y \n",
    "print(func_2(2,3))"
   ]
  },
  {
   "cell_type": "code",
   "execution_count": 59,
   "metadata": {},
   "outputs": [
    {
     "data": {
      "text/plain": [
       "False"
      ]
     },
     "execution_count": 59,
     "metadata": {},
     "output_type": "execute_result"
    }
   ],
   "source": [
    "# using lambda more other operations \n",
    "func_3 = lambda x: False if x//2 == 0 else True\n",
    "func_3(0)"
   ]
  },
  {
   "cell_type": "markdown",
   "metadata": {},
   "source": [
    "#### Using it in conjunction with map(), reduce(), and filter"
   ]
  },
  {
   "cell_type": "code",
   "execution_count": 60,
   "metadata": {},
   "outputs": [
    {
     "name": "stdout",
     "output_type": "stream",
     "text": [
      "[14, 35, 70, 42, 91, 126]\n"
     ]
    }
   ],
   "source": [
    "# map applies a function to a collection of objects (lists)\n",
    "# without map\n",
    "# create a list that's the age of dogs, and multiply it by 7 to get their age in human years\n",
    "age_of_dogs = [2,5,10,6,13,18]\n",
    "age_of_dogs_human_years = []\n",
    "for age in age_of_dogs:\n",
    "    age_of_dogs_human_years.append(age*7)\n",
    "print(age_of_dogs_human_years)"
   ]
  },
  {
   "cell_type": "code",
   "execution_count": 61,
   "metadata": {},
   "outputs": [],
   "source": [
    "age_of_dogs = [2,5,10,6,13,18]\n",
    "age_of_dogs_human = list(map(lambda x: x*7, age_of_dogs))"
   ]
  },
  {
   "cell_type": "code",
   "execution_count": 33,
   "metadata": {},
   "outputs": [],
   "source": [
    "def is_dog_old(value):\n",
    "    if value > 50:\n",
    "        return value"
   ]
  },
  {
   "cell_type": "code",
   "execution_count": 62,
   "metadata": {},
   "outputs": [],
   "source": [
    "old_dogs = filter(lambda x: x > 50, age_of_dogs_human)"
   ]
  },
  {
   "cell_type": "code",
   "execution_count": 63,
   "metadata": {},
   "outputs": [],
   "source": [
    "function_old_dogs = filter(is_dog_old, age_of_dogs_human)"
   ]
  },
  {
   "cell_type": "code",
   "execution_count": 64,
   "metadata": {},
   "outputs": [
    {
     "data": {
      "text/plain": [
       "[70, 91, 126]"
      ]
     },
     "execution_count": 64,
     "metadata": {},
     "output_type": "execute_result"
    }
   ],
   "source": [
    "list(function_old_dogs)"
   ]
  },
  {
   "cell_type": "code",
   "execution_count": 65,
   "metadata": {},
   "outputs": [
    {
     "data": {
      "text/plain": [
       "120"
      ]
     },
     "execution_count": 65,
     "metadata": {},
     "output_type": "execute_result"
    }
   ],
   "source": [
    "num_list = [1,2,3,4,5]\n",
    "from functools import reduce\n",
    "reduce(lambda x,y: x*y, num_list )"
   ]
  },
  {
   "cell_type": "markdown",
   "metadata": {},
   "source": [
    "## Part II - List Comprehension\n",
    "List comprehensions provide a concise way to create lists. Syntax: __[expression for item in list]__"
   ]
  },
  {
   "cell_type": "code",
   "execution_count": 66,
   "metadata": {},
   "outputs": [
    {
     "name": "stdout",
     "output_type": "stream",
     "text": [
      "[12, 15, 30, 25, 30, 27]\n"
     ]
    }
   ],
   "source": [
    "age_of_cats = [12, 15, 30, 25, 30, 27]\n",
    "print(age_of_cats)\n"
   ]
  },
  {
   "cell_type": "code",
   "execution_count": 67,
   "metadata": {},
   "outputs": [
    {
     "name": "stdout",
     "output_type": "stream",
     "text": [
      "[84, 105, 210, 175, 210, 189]\n"
     ]
    }
   ],
   "source": [
    "age_of_cats_in_human_years = [cat*7 for cat in age_of_cats]\n",
    "\n",
    "# it is equivalent to:\n",
    "age_of_cats_in_human_years = []\n",
    "for cat in age_of_cats:\n",
    "    age_of_cats_in_human_years.append(cat*7)\n",
    "    \n",
    "print(age_of_cats_in_human_years)"
   ]
  },
  {
   "cell_type": "code",
   "execution_count": 68,
   "metadata": {},
   "outputs": [
    {
     "name": "stdout",
     "output_type": "stream",
     "text": [
      "[84, 210, 210]\n"
     ]
    }
   ],
   "source": [
    "num_list = [cat*7 for cat in age_of_cats if cat % 2 == 0]\n",
    "print(num_list)"
   ]
  },
  {
   "cell_type": "code",
   "execution_count": 50,
   "metadata": {},
   "outputs": [
    {
     "data": {
      "text/plain": [
       "[12]"
      ]
     },
     "execution_count": 50,
     "metadata": {},
     "output_type": "execute_result"
    }
   ],
   "source": [
    "# list comprehension used in conjunction with conditionals -> sort of like filtering\n",
    "age_of_cats_in_human_years_still_alive = [cat for cat in age_of_cats if cat*7 < 100]\n",
    "age_of_cats_in_human_years_still_alive"
   ]
  }
 ],
 "metadata": {
  "kernelspec": {
   "display_name": "Python 3",
   "language": "python",
   "name": "python3"
  },
  "language_info": {
   "codemirror_mode": {
    "name": "ipython",
    "version": 3
   },
   "file_extension": ".py",
   "mimetype": "text/x-python",
   "name": "python",
   "nbconvert_exporter": "python",
   "pygments_lexer": "ipython3",
   "version": "3.7.3"
  }
 },
 "nbformat": 4,
 "nbformat_minor": 4
}
